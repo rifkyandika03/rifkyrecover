{
 "cells": [
  {
   "cell_type": "code",
   "execution_count": 1,
   "metadata": {},
   "outputs": [
    {
     "name": "stdout",
     "output_type": "stream",
     "text": [
      "38\n"
     ]
    }
   ],
   "source": [
    "Numbers = [7, 9, 10, 7, 5]\n",
    "\n",
    "total = 0\n",
    "for i in Numbers:\n",
    "    total += i\n",
    "\n",
    "print(total)"
   ]
  },
  {
   "cell_type": "code",
   "execution_count": 3,
   "metadata": {},
   "outputs": [
    {
     "name": "stdout",
     "output_type": "stream",
     "text": [
      "['ganjil', 'genap', 'ganjil', 'ganjil', 'ganjil']\n"
     ]
    }
   ],
   "source": [
    "def number(number_list):\n",
    "\n",
    "  result = []\n",
    "  for number in number_list:\n",
    "    if number % 2 == 0:\n",
    "      result.append(\"genap\")\n",
    "    else:\n",
    "      result.append(\"ganjil\")\n",
    "  return result\n",
    "\n",
    "number_list = [1, 10, 7, 21, 5]\n",
    "output = number(number_list)\n",
    "\n",
    "print(output)\n"
   ]
  },
  {
   "cell_type": "code",
   "execution_count": 30,
   "metadata": {},
   "outputs": [
    {
     "name": "stdout",
     "output_type": "stream",
     "text": [
      "4\n",
      "1 \n",
      "2 2 \n",
      "3 3 3 \n",
      "4 4 4 4 \n",
      "5 5 5 5 5 \n"
     ]
    }
   ],
   "source": [
    "def circle_area(radius):\n",
    "    area = 3.14 * radius * radius\n",
    "\n",
    "    return area\n",
    "\n",
    "\n",
    "\n",
    "def text_count(text):\n",
    "    result = 0\n",
    "    vocal =\"a\"\n",
    "\n",
    "    for loop in text:\n",
    "        if loop == vocal:\n",
    "            result += 1\n",
    "\n",
    "    return result\n",
    "\n",
    "text = \"saya lapar\"\n",
    "result = text_count(text)\n",
    "print(result)\n",
    "    \n",
    "\n",
    "def number_pyramid(n):\n",
    "\n",
    "  pyramid = \"\"\n",
    "  for i in range(n):\n",
    "\n",
    "    for x in range(i+1):\n",
    "       print(i + 1, end=\" \")\n",
    "    print()\n",
    "\n",
    "n = 5\n",
    "pyramid = number_pyramid(n)"
   ]
  }
 ],
 "metadata": {
  "kernelspec": {
   "display_name": "base",
   "language": "python",
   "name": "python3"
  },
  "language_info": {
   "codemirror_mode": {
    "name": "ipython",
    "version": 3
   },
   "file_extension": ".py",
   "mimetype": "text/x-python",
   "name": "python",
   "nbconvert_exporter": "python",
   "pygments_lexer": "ipython3",
   "version": "3.12.4"
  }
 },
 "nbformat": 4,
 "nbformat_minor": 2
}
